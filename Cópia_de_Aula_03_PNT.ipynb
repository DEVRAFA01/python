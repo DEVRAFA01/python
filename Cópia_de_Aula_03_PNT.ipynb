{
  "nbformat": 4,
  "nbformat_minor": 0,
  "metadata": {
    "colab": {
      "provenance": []
    },
    "kernelspec": {
      "name": "python3",
      "display_name": "Python 3"
    },
    "language_info": {
      "name": "python"
    }
  },
  "cells": [
    {
      "cell_type": "code",
      "execution_count": null,
      "metadata": {
        "colab": {
          "base_uri": "https://localhost:8080/"
        },
        "id": "dZZ0QgJUgWpc",
        "outputId": "5f0fddc2-6ebc-4566-e3e8-fba7e0ca24d5"
      },
      "outputs": [
        {
          "output_type": "stream",
          "name": "stdout",
          "text": [
            "<class 'bool'>\n",
            "<class 'float'>\n",
            "<class 'int'>\n",
            "<class 'int'>\n"
          ]
        }
      ],
      "source": [
        "from re import X\n",
        "# ETE CICERO DIAS\n",
        "# DOCENTE: CLOVES ROCHA\n",
        "# ESTUDANTE: RAFAEL RICARDO CABRAL DA SILVA CUNHA\n",
        "# TIPOS PRIMITIVOS DE DADOS EM PHYTON\n",
        "\n",
        "C = True\n",
        "print(type(C))\n",
        "print(type(10.5))\n",
        "print(type(1))\n",
        "print(type(50))"
      ]
    }
  ]
}