{
  "nbformat": 4,
  "nbformat_minor": 0,
  "metadata": {
    "colab": {
      "provenance": [],
      "name": "Atividade O. Objetos",
      "authorship_tag": "ABX9TyN6iH4/qnOwbC8Z+uSOZ4ib",
      "include_colab_link": true
    },
    "kernelspec": {
      "name": "python3",
      "display_name": "Python 3"
    },
    "language_info": {
      "name": "python"
    }
  },
  "cells": [
    {
      "cell_type": "markdown",
      "metadata": {
        "id": "view-in-github",
        "colab_type": "text"
      },
      "source": [
        "<a href=\"https://colab.research.google.com/github/DEVRAFA01/python/blob/main/Atividade_O_Objetos.ipynb\" target=\"_parent\"><img src=\"https://colab.research.google.com/assets/colab-badge.svg\" alt=\"Open In Colab\"/></a>"
      ]
    },
    {
      "cell_type": "code",
      "execution_count": null,
      "metadata": {
        "colab": {
          "base_uri": "https://localhost:8080/"
        },
        "id": "u-SDYTBxHIHU",
        "outputId": "92523753-63eb-41b9-8adb-42f794ee6af1"
      },
      "outputs": [
        {
          "output_type": "execute_result",
          "data": {
            "text/plain": [
              "10"
            ]
          },
          "metadata": {},
          "execution_count": 27
        }
      ],
      "source": [
        "#ETE CICERO DIAS\n",
        "#PROF. CLOVES\n",
        "#PYTHON\n",
        "#NOÇÕES DE ORIENTAÇÃO A OBJETO\n",
        "#ESTUDANTE: RAFAEL RICARDO\n",
        "\n",
        "class Carro:\n",
        "  def __init__(self):\n",
        "    self._nrodas = 4\n",
        "  def set_nrodas(self, n):\n",
        "    self._nrodas = n\n",
        "gol = Carro()\n",
        "gol._nrodas\n",
        "\n",
        "gol.set_nrodas(10)\n",
        "gol._nrodas\n",
        "\n",
        "# imprimi o objeto...\n",
        "#c = Carro()\n",
        "#print(c)"
      ]
    },
    {
      "cell_type": "code",
      "source": [
        "class Carro:\n",
        "  def __init__(self):\n",
        "    self._nrodas = 4\n",
        "  def set_nrodas(self, n):\n",
        "    self._nrodas = n\n",
        "etios = Carro()\n",
        "etios._nrodas\n",
        "\n",
        "etios.set_nrodas(10)\n",
        "etios._nrodas\n",
        "\n",
        "# imprimi o objeto...\n",
        "c = Carro()\n",
        "print(c)"
      ],
      "metadata": {
        "colab": {
          "base_uri": "https://localhost:8080/"
        },
        "id": "Ramdl5fkKE5O",
        "outputId": "c2946843-18f6-41ff-991e-91bd4368de0b"
      },
      "execution_count": null,
      "outputs": [
        {
          "output_type": "stream",
          "name": "stdout",
          "text": [
            "<__main__.Carro object at 0x7f6837f136a0>\n"
          ]
        }
      ]
    }
  ]
}