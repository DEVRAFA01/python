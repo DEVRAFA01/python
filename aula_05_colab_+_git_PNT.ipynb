{
  "nbformat": 4,
  "nbformat_minor": 0,
  "metadata": {
    "colab": {
      "provenance": [],
      "authorship_tag": "ABX9TyNcjYOKAEtczUUQSjyXEAOs",
      "include_colab_link": true
    },
    "kernelspec": {
      "name": "python3",
      "display_name": "Python 3"
    },
    "language_info": {
      "name": "python"
    }
  },
  "cells": [
    {
      "cell_type": "markdown",
      "metadata": {
        "id": "view-in-github",
        "colab_type": "text"
      },
      "source": [
        "<a href=\"https://colab.research.google.com/github/DEVRAFA01/python/blob/main/aula_05_colab_%2B_git_PNT.ipynb\" target=\"_parent\"><img src=\"https://colab.research.google.com/assets/colab-badge.svg\" alt=\"Open In Colab\"/></a>"
      ]
    },
    {
      "cell_type": "code",
      "execution_count": 3,
      "metadata": {
        "colab": {
          "base_uri": "https://localhost:8080/"
        },
        "id": "dZZ0QgJUgWpc",
        "outputId": "1d6b5f2b-7e4c-4c17-efac-7bccf0eafe7d"
      },
      "outputs": [
        {
          "output_type": "stream",
          "name": "stdout",
          "text": [
            "<class 'str'>\n"
          ]
        }
      ],
      "source": [
        "from re import X\n",
        "# ETE CICERO DIAS\n",
        "# DOCENTE: CLOVES ROCHA\n",
        "# ESTUDANTE: RAFAEL RICARDO CABRAL DA SILVA CUNHA\n",
        "# TIPOS PRIMITIVOS DE DADOS EM PHYTON\n",
        "\n",
        "R = 'Rafael'\n",
        "print(type(R))\n"
      ]
    }
  ]
}