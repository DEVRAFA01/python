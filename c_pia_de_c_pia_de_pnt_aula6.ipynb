{
  "nbformat": 4,
  "nbformat_minor": 0,
  "metadata": {
    "colab": {
      "provenance": [],
      "toc_visible": true,
      "include_colab_link": true
    },
    "kernelspec": {
      "name": "python3",
      "display_name": "Python 3"
    },
    "language_info": {
      "name": "python"
    }
  },
  "cells": [
    {
      "cell_type": "markdown",
      "metadata": {
        "id": "view-in-github",
        "colab_type": "text"
      },
      "source": [
        "<a href=\"https://colab.research.google.com/github/DEVRAFA01/python/blob/main/c_pia_de_c_pia_de_pnt_aula6.ipynb\" target=\"_parent\"><img src=\"https://colab.research.google.com/assets/colab-badge.svg\" alt=\"Open In Colab\"/></a>"
      ]
    },
    {
      "cell_type": "code",
      "execution_count": null,
      "metadata": {
        "id": "wRlbO3IJrswI"
      },
      "outputs": [],
      "source": [
        "# ETE CÍCERO DIAS\n",
        "# DOCENTE: CLOVES ROCHA\n",
        "# ESTUDANTE: Rafael Ricardo Cabral da Silva Cunha\n",
        "# PNT - TIPOS PRIMITIVOS DE DADOS\n",
        "#print('Olá mundo!')\n",
        "\n",
        "c = 9.9\n",
        "print(type(c))\n"
      ]
    },
    {
      "cell_type": "code",
      "source": [
        "# ETE CÍCERO DIAS\n",
        "# DOCENTE: CLOVES ROCHA\n",
        "# ESTUDANTE: Rafael Ricardo Cabral da Silva Cunha\n",
        "# PNT - TIPOS PRIMITIVOS DE DADOS\n",
        "#print('Olá mundo!')\n",
        "\n",
        "c = 9.9\n",
        "print(type(c))\n",
        "\n",
        "# 3. Operadores Aritméticos - Python\n",
        "# 10 + 1\n",
        "# 10 - 1\n",
        "# 4 * 5\n",
        "# 10 / 3\n",
        "# 10 // 3\n",
        "# 2 ** 3\n",
        "# 13 % 2\n",
        "\n",
        "#c = 2 ** 3\n",
        "#print(c)\n",
        "\n",
        "numero1 = float(input (\"Digite um número: \"))\n",
        "numero2 = float(input (\"Digite outro número: \"))\n",
        "adicao = numero1 + numero2\n",
        "\n",
        "\n",
        "print(adicao)\n",
        "\n",
        "\n",
        "numero1 = float(input (\"Digite um número: \"))\n",
        "numero2 = float(input (\"Digite outro número: \"))\n",
        "subtracao = numero1 - numero2\n",
        "\n",
        "print(subtracao)\n",
        "\n",
        "\n",
        "numero1 = float(input (\"Digite um número: \"))\n",
        "numero2 = float(input (\"Digite outro número: \"))\n",
        "multiplicar = numero1 * numero2\n",
        "\n",
        "print(multiplicar)\n",
        "\n",
        "\n",
        "numero1 = float(input (\"Digite um número: \"))\n",
        "numero2 = float(input (\"Digite outro número: \"))\n",
        "dividir = numero1 / numero2\n",
        "\n",
        "print(dividir)\n",
        "\n",
        "numero1 = float(input (\"Digite um número: \"))\n",
        "numero2 = float(input (\"Digite outro número: \"))\n",
        "dividir = numero1 // numero2\n",
        "\n",
        "print(dividir)\n",
        "\n",
        "numero1 = float(input (\"Digite um número: \"))\n",
        "numero2 = float(input (\"Digite outro número: \"))\n",
        "elevar = numero1 ** numero2\n",
        "\n",
        "print(elevar)"
      ],
      "metadata": {
        "colab": {
          "base_uri": "https://localhost:8080/"
        },
        "id": "tEe81ubvtjVw",
        "outputId": "c63f6f7d-9793-48d4-ad77-245b3fc5b017"
      },
      "execution_count": null,
      "outputs": [
        {
          "output_type": "stream",
          "name": "stdout",
          "text": [
            "<class 'float'>\n",
            "Digite um número: 5\n",
            "Digite outro número: 6\n",
            "11.0\n",
            "Digite um número: 7\n",
            "Digite outro número: 5\n",
            "2.0\n",
            "Digite um número: 7\n",
            "Digite outro número: 9\n",
            "63.0\n",
            "Digite um número: 6\n",
            "Digite outro número: 5\n",
            "1.2\n",
            "Digite um número: 5\n",
            "Digite outro número: 5\n",
            "1.0\n",
            "Digite um número: 9\n",
            "Digite outro número: 9\n",
            "387420489.0\n"
          ]
        }
      ]
    },
    {
      "cell_type": "markdown",
      "source": [
        "# Nova seção"
      ],
      "metadata": {
        "id": "RZxYMSBRlEEh"
      }
    },
    {
      "cell_type": "code",
      "source": [
        "# 4. Operadores Relacionais Simples.\n",
        "\n",
        "# 7 > 5\n",
        "# 10 < 15\n",
        "\n",
        "notaA = 5\n",
        "notaB = 10\n",
        "notaA > notaB\n",
        "#print(notaA)"
      ],
      "metadata": {
        "colab": {
          "base_uri": "https://localhost:8080/"
        },
        "id": "lOwKaYOcwGZo",
        "outputId": "b875c103-87a6-47b4-cc8d-ecd38a5432e4"
      },
      "execution_count": null,
      "outputs": [
        {
          "output_type": "execute_result",
          "data": {
            "text/plain": [
              "False"
            ]
          },
          "metadata": {},
          "execution_count": 6
        }
      ]
    },
    {
      "cell_type": "code",
      "source": [
        "# 5. Operadores Relacionais Compostos.\n",
        "#na = 10\n",
        "#nb = 6\n",
        "#nc = 8\n",
        "#nd = 9\n",
        "#na >= nb\n",
        "#7 >= 6\n",
        "#print('Estudante aprovado!')\n",
        "#7 <= 10\n",
        "a = 10\n",
        "b = 9\n",
        "a != b #diferente de"
      ],
      "metadata": {
        "colab": {
          "base_uri": "https://localhost:8080/"
        },
        "id": "J3AO2J2cxXmd",
        "outputId": "5e42f6bd-0447-44e2-d22e-26634916796b"
      },
      "execution_count": null,
      "outputs": [
        {
          "output_type": "execute_result",
          "data": {
            "text/plain": [
              "True"
            ]
          },
          "metadata": {},
          "execution_count": 8
        }
      ]
    },
    {
      "cell_type": "code",
      "source": [
        "nome = input('Digite seu nome: ')\n",
        "print(f'Seu nome é {nome}.')"
      ],
      "metadata": {
        "colab": {
          "base_uri": "https://localhost:8080/"
        },
        "id": "5dNKtB92zZHA",
        "outputId": "1965151f-091a-4b31-a8cf-f8ea050ee20a"
      },
      "execution_count": null,
      "outputs": [
        {
          "output_type": "stream",
          "name": "stdout",
          "text": [
            "Digite seu nome: Rafael Ricardo\n",
            "Seu nome é Rafael Ricardo.\n"
          ]
        }
      ]
    },
    {
      "cell_type": "code",
      "source": [
        "idade = int(input('Digite sua idade: '))\n",
        "print(f'Você tem {idade} anos.')\n",
        "print(type(idade))"
      ],
      "metadata": {
        "colab": {
          "base_uri": "https://localhost:8080/"
        },
        "id": "H_V-J0MJ1BpY",
        "outputId": "6e1f8bd9-8c4a-45b2-a091-9720f64a6507"
      },
      "execution_count": null,
      "outputs": [
        {
          "output_type": "stream",
          "name": "stdout",
          "text": [
            "Digite sua idade: 5\n",
            "Você tem 5 anos.\n",
            "<class 'int'>\n"
          ]
        }
      ]
    },
    {
      "cell_type": "code",
      "source": [
        "peso = float(input('Digite seu peso: '))\n",
        "print(f'Você pesa {peso}KGs')\n",
        "print(type(peso))"
      ],
      "metadata": {
        "id": "6voJAmTS15o7",
        "outputId": "194579cf-ef90-42f7-b51b-fd5522df9dc9",
        "colab": {
          "base_uri": "https://localhost:8080/"
        }
      },
      "execution_count": null,
      "outputs": [
        {
          "output_type": "stream",
          "name": "stdout",
          "text": [
            "Digite seu peso: 84\n",
            "Você pesa 84.0KGs\n",
            "<class 'float'>\n"
          ]
        }
      ]
    },
    {
      "cell_type": "code",
      "source": [
        "#ESTRUTURAS CONDICIONAIS\n",
        "\n",
        "numero = int(input('Digite um número: '))\n",
        "if numero % 2 == 0:\n",
        "  print(f'O número {numero} é par.')\n",
        "\n",
        "else:\n",
        "    print(f'O número {numero} é ímpar.')"
      ],
      "metadata": {
        "id": "inDKngGqsrKI",
        "outputId": "84c88a79-cab4-4ddc-a36c-72ab64988802",
        "colab": {
          "base_uri": "https://localhost:8080/"
        }
      },
      "execution_count": null,
      "outputs": [
        {
          "output_type": "stream",
          "name": "stdout",
          "text": [
            "Digite um número: 1259\n",
            "O número 1259 é ímpar.\n"
          ]
        }
      ]
    },
    {
      "cell_type": "code",
      "source": [
        "#Estruturas condicionais aninhadas\n",
        "\n",
        "numero = float(input('Digite um numero: '))\n",
        "if numero > 0:\n",
        "\n",
        "  print('Este número é positivo.')\n",
        "\n",
        "elif numero == 0:\n",
        "      print('Este número é neutro.')\n",
        "else:\n",
        "     print('Este número é negativo')"
      ],
      "metadata": {
        "colab": {
          "base_uri": "https://localhost:8080/"
        },
        "id": "7Lc8-Woft54g",
        "outputId": "dc54b496-0519-4eb5-cb6b-7c343831b777"
      },
      "execution_count": null,
      "outputs": [
        {
          "output_type": "stream",
          "name": "stdout",
          "text": [
            "Digite um numero: -96\n",
            "Este número é negativo\n"
          ]
        }
      ]
    },
    {
      "cell_type": "code",
      "source": [
        "#operadores lógicos\n"
      ],
      "metadata": {
        "id": "e_aA-gFQwMQ5"
      },
      "execution_count": null,
      "outputs": []
    },
    {
      "cell_type": "code",
      "source": [
        "#1. Faça um CÓDIGO que mostre a mensagem \"Olá ETE CICERO DIAS!\" na tela.\n",
        "\n",
        "\n",
        "mensagem = \"Olá ETE CICERO DIAS!\"\n",
        "print(mensagem)\n"
      ],
      "metadata": {
        "colab": {
          "base_uri": "https://localhost:8080/"
        },
        "id": "ID9rp6YcxMw3",
        "outputId": "91b1efab-1481-4e1b-a04a-450dade6868b"
      },
      "execution_count": null,
      "outputs": [
        {
          "output_type": "stream",
          "name": "stdout",
          "text": [
            "Olá ETE CICERO DIAS!\n"
          ]
        }
      ]
    },
    {
      "cell_type": "code",
      "source": [
        "#2. Faça um CÓDIGO que peça um número e então mostre a mensagem O número informado foi [número]\n",
        "\n",
        "numero = input(\"Informe um número: \")\n",
        "print(\"O número informado foi\", numero)"
      ],
      "metadata": {
        "id": "R8fFPlcSx12w"
      },
      "execution_count": null,
      "outputs": []
    },
    {
      "cell_type": "code",
      "source": [
        "#3. Faça um CÓDIGO que peça dois números e imprima a soma.\n",
        "\n",
        "numero1 = float(input(\"Digite o primeiro número: \"))\n",
        "numero2 = float(input(\"Digite o segundo número: \"))\n",
        "\n",
        "soma = numero1 + numero2\n",
        "\n",
        "print(\"A soma dos dois números é:\", soma)"
      ],
      "metadata": {
        "id": "lYPsTrmgx54G"
      },
      "execution_count": null,
      "outputs": []
    },
    {
      "cell_type": "code",
      "source": [
        "#4. Faça um CÓDIGO que peça as 4 notas bimestrais e mostre a média final.\n",
        "\n",
        "nota1 = float(input(\"Digite a primeira nota: \"))\n",
        "nota2 = float(input(\"Digite a segunda nota: \"))\n",
        "nota3 = float(input(\"Digite a terceira nota: \"))\n",
        "nota4 = float(input(\"Digite a quarta nota: \"))\n",
        "\n",
        "media = (nota1 + nota2 + nota3 + nota4) / 4\n",
        "\n",
        "print(\"A média final é:\", media)"
      ],
      "metadata": {
        "colab": {
          "base_uri": "https://localhost:8080/"
        },
        "id": "ur--jMwxxMpf",
        "outputId": "786b4e88-4e0b-4dd6-9dbe-ac8a492d5e2d"
      },
      "execution_count": null,
      "outputs": [
        {
          "output_type": "stream",
          "name": "stdout",
          "text": [
            "Digite a primeira nota: 5\n",
            "Digite a segunda nota: 6\n",
            "Digite a terceira nota: 7\n",
            "Digite a quarta nota: 8\n",
            "A média final é: 6.5\n"
          ]
        }
      ]
    },
    {
      "cell_type": "code",
      "source": [
        "\"\"\"5. Faça um CÓDIGO que converta metros para centímetros.\"\"\"\n",
        "\n",
        "metros = float(input(\"Digite o valor em metros: \"))\n",
        "\n",
        "centimetros = metros * 100\n",
        "\n",
        "print(\"O valor em centímetros é:\", centimetros)"
      ],
      "metadata": {
        "colab": {
          "base_uri": "https://localhost:8080/"
        },
        "id": "jWN-jhdGjQLD",
        "outputId": "35cfb2da-b9e5-4174-9f99-fb8b629ee8f5"
      },
      "execution_count": null,
      "outputs": [
        {
          "output_type": "stream",
          "name": "stdout",
          "text": [
            "Digite o valor em metros: 1.75\n",
            "O valor em centímetros é: 175.0\n"
          ]
        }
      ]
    },
    {
      "cell_type": "code",
      "source": [
        "\"\"\"6. Faça um CÓDIGO que peça o raio de um círculo, calcule e mostre sua área.\"\"\"\n",
        "\n",
        "import math\n",
        "\n",
        "raio = float(input(\"Digite o raio do círculo: \"))\n",
        "\n",
        "area = math.pi * raio**2\n",
        "\n",
        "print(\"A área do círculo é:\", area)"
      ],
      "metadata": {
        "id": "IqaAT_HywMJQ"
      },
      "execution_count": null,
      "outputs": []
    },
    {
      "cell_type": "code",
      "source": [
        "\"\"\"7. Faça um CÓDIGO que calcule a área de um quadrado, em seguida mostre o dobro desta área para o usuário.\"\"\"\n",
        "\n",
        "lado = float(input(\"Digite o valor do lado do quadrado: \"))\n",
        "\n",
        "area = lado ** 2\n",
        "dobro_area = 2 * area\n",
        "\n",
        "print(\"A área do quadrado é:\", area)\n",
        "print(\"O dobro da área é:\", dobro_area)"
      ],
      "metadata": {
        "id": "o_hCRfP7jcrr"
      },
      "execution_count": null,
      "outputs": []
    },
    {
      "cell_type": "code",
      "source": [
        "\"\"\"8. Faça um CÓDIGO que pergunte quanto você ganha por hora e o número de horas trabalhadas no mês. Calcule e mostre o total do seu salário no referido mês.\"\"\"\n",
        "\n",
        "valor_por_hora = float(input(\"Digite o valor do seu salário por hora: \"))\n",
        "horas_trabalhadas = float(input(\"Digite o número de horas trabalhadas no mês: \"))\n",
        "\n",
        "salario_mensal = valor_por_hora * horas_trabalhadas\n",
        "\n",
        "print(\"Seu salário mensal é:\", salario_mensal)"
      ],
      "metadata": {
        "colab": {
          "base_uri": "https://localhost:8080/"
        },
        "id": "5-NXmxq3jchj",
        "outputId": "cb5117ed-c12b-41f0-b24e-37bdbf26ad97"
      },
      "execution_count": null,
      "outputs": [
        {
          "output_type": "stream",
          "name": "stdout",
          "text": [
            "Digite o valor do seu salário por hora: 2000\n",
            "Digite o número de horas trabalhadas no mês: 220\n",
            "Seu salário mensal é: 440000.0\n"
          ]
        }
      ]
    },
    {
      "cell_type": "code",
      "source": [
        "\"\"\"9. Faça um CÓDIGO que peça um valor e mostre na tela se o valor é positivo ou negativo.\"\"\"\n",
        "\n",
        "valor = float(input(\"Digite um valor: \"))\n",
        "\n",
        "if valor > 0:\n",
        "    print(\"O valor é positivo.\")\n",
        "elif valor < 0:\n",
        "    print(\"O valor é negativo.\")\n",
        "else:\n",
        "    print(\"O valor é zero.\")\n"
      ],
      "metadata": {
        "id": "qRP8VFgjkYg0"
      },
      "execution_count": null,
      "outputs": []
    },
    {
      "cell_type": "code",
      "source": [
        "\"\"\"10. Faça um CÓDIGO que verifique se uma letra digitada é \"F\" ou \"M\". Conforme a letra escrever: F - Feminino, M - Masculino, Sexo Inválido.\"\"\"\n",
        "\n",
        "letra = input(\"Digite uma letra: \")\n",
        "\n",
        "if letra == \"F\" or letra == \"f\":\n",
        "    print(\"F - Feminino\")\n",
        "elif letra == \"M\" or letra == \"m\":\n",
        "    print(\"M - Masculino\")\n",
        "else:\n",
        "    print(\"Sexo Inválido\")"
      ],
      "metadata": {
        "colab": {
          "base_uri": "https://localhost:8080/"
        },
        "id": "lEh7oxHdknqL",
        "outputId": "9fd32a0f-027b-4899-9146-0b14702c915c"
      },
      "execution_count": null,
      "outputs": [
        {
          "output_type": "stream",
          "name": "stdout",
          "text": [
            "Digite uma letra: t\n",
            "Sexo Inválido\n"
          ]
        }
      ]
    }
  ]
}